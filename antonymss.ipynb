{
  "nbformat": 4,
  "nbformat_minor": 0,
  "metadata": {
    "colab": {
      "provenance": [],
      "authorship_tag": "ABX9TyN8uwM0HoadeZ9N1AhYCf2t",
      "include_colab_link": true
    },
    "kernelspec": {
      "name": "python3",
      "display_name": "Python 3"
    },
    "language_info": {
      "name": "python"
    }
  },
  "cells": [
    {
      "cell_type": "markdown",
      "metadata": {
        "id": "view-in-github",
        "colab_type": "text"
      },
      "source": [
        "<a href=\"https://colab.research.google.com/github/saharazimi619/antonyms/blob/main/antonymss.ipynb\" target=\"_parent\"><img src=\"https://colab.research.google.com/assets/colab-badge.svg\" alt=\"Open In Colab\"/></a>"
      ]
    },
    {
      "cell_type": "code",
      "source": [
        "import nltk\n",
        "nltk.download('wordnet')"
      ],
      "metadata": {
        "colab": {
          "base_uri": "https://localhost:8080/"
        },
        "id": "heSRsfmVKRQu",
        "outputId": "c35b9572-cf7d-41db-c6f4-5a549f875ffe"
      },
      "execution_count": 10,
      "outputs": [
        {
          "output_type": "stream",
          "name": "stderr",
          "text": [
            "[nltk_data] Downloading package wordnet to /root/nltk_data...\n",
            "[nltk_data]   Package wordnet is already up-to-date!\n"
          ]
        },
        {
          "output_type": "execute_result",
          "data": {
            "text/plain": [
              "True"
            ]
          },
          "metadata": {},
          "execution_count": 10
        }
      ]
    },
    {
      "cell_type": "code",
      "execution_count": 15,
      "metadata": {
        "colab": {
          "base_uri": "https://localhost:8080/"
        },
        "id": "7VJm-aWBFSC4",
        "outputId": "467a6cbf-1e87-4a5e-8032-03dc50eef2fb"
      },
      "outputs": [
        {
          "output_type": "stream",
          "name": "stdout",
          "text": [
            "Antonym 1 of courageous = timid\n",
            "Antonym 2 of courageous = cowardly\n"
          ]
        }
      ],
      "source": [
        "from nltk.corpus import wordnet\n",
        "antonyms =[]\n",
        "for s in wordnet.synsets('courageous'):\n",
        "    for lemma in s.lemmas():\n",
        "        for ant in wordnet.synsets(lemma.name()):\n",
        "            for ant_lemma in ant.lemmas():\n",
        "                if ant_lemma.antonyms():\n",
        "                    antonyms.append(ant_lemma.antonyms()[0].name())\n",
        "                    break\n",
        "            if len(antonyms) >= 2:\n",
        "                break\n",
        "        if len(antonyms) >= 2:\n",
        "            break\n",
        "    if len(antonyms) >= 2:\n",
        "        break\n",
        "\n",
        "if len(antonyms) >= 2:\n",
        "    print(\"Antonym 1 of courageous =\", antonyms[0])\n",
        "    print(\"Antonym 2 of courageous =\", antonyms[1])\n",
        "elif len(antonyms) == 1:\n",
        "    print(\"Only one antonym found for 'courageous':\", antonyms[0])\n",
        "else:\n",
        "    print(\"No antonyms found for 'courageous'\")"
      ]
    }
  ]
}